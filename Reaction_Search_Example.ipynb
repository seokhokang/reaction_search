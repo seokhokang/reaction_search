{
 "cells": [
  {
   "cell_type": "code",
   "execution_count": 1,
   "id": "17712f2e-17ac-41dd-8946-42fdca9fa75d",
   "metadata": {},
   "outputs": [],
   "source": [
    "import yaml\n",
    "import numpy as np\n",
    "import pandas as pd\n",
    "import pickle as pkl\n",
    "import torch\n",
    "from torch.utils.data import DataLoader\n",
    "from dataset import ReactionDataset, collate_reaction, query_to_vec\n",
    "from train import Trainer\n",
    "from util import euclidean_sim, is_valid_smiles"
   ]
  },
  {
   "cell_type": "markdown",
   "id": "300fcf3e-4fe0-4df7-9539-7a0ddbf4360e",
   "metadata": {},
   "source": [
    "### User Query and Specification for Search\n",
    "1. Query for search\n",
    "2. No. records to retrieve\n",
    "3. Model identifier to load"
   ]
  },
  {
   "cell_type": "code",
   "execution_count": 2,
   "id": "9a4d0f56-d635-4189-afaa-dd1646eec533",
   "metadata": {},
   "outputs": [],
   "source": [
    "query = {\n",
    "    'Q.ID': 1,\n",
    "    'product': 'c1ccc(-c2ccc3nnc(CNc4ncnc5nc[nH]c45)n3n2)cc1',#smiles\n",
    "    'reactant': 'Clc1ncnc2nc[nH]c12.NCc1nnc2ccc(-c3ccccc3)nn12',#smiles\n",
    "}\n",
    "n_retrieve = 15\n",
    "identifier = 'paper'"
   ]
  },
  {
   "cell_type": "code",
   "execution_count": 3,
   "id": "90a311d0-c778-425a-8f77-90023c0ee0e1",
   "metadata": {},
   "outputs": [],
   "source": [
    "# Check query\n",
    "has_product = is_valid_smiles(query['product'])\n",
    "has_reactant = is_valid_smiles(query['reactant'])\n",
    "if len(query['product']) > 0: assert has_product\n",
    "if len(query['reactant']) > 0: assert has_reactant\n",
    "assert has_product or has_reactant"
   ]
  },
  {
   "cell_type": "markdown",
   "id": "f914221f-ff60-491d-aaf6-be6b6ca13a94",
   "metadata": {},
   "source": [
    "### Load Configurations"
   ]
  },
  {
   "cell_type": "code",
   "execution_count": 4,
   "id": "450e03b1-93f9-47c6-a388-3ff8d7baf538",
   "metadata": {},
   "outputs": [
    {
     "name": "stdout",
     "output_type": "stream",
     "text": [
      "Using device: cuda\n"
     ]
    }
   ],
   "source": [
    "cuda = torch.device('cuda' if torch.cuda.is_available() else 'cpu')\n",
    "print('Using device:', cuda)\n",
    "\n",
    "config_url = 'config.yaml'\n",
    "with open(config_url, 'r') as f:\n",
    "    config = yaml.safe_load(f)  \n",
    "\n",
    "frac_var = batch_size = config['pca']['frac_var']"
   ]
  },
  {
   "cell_type": "code",
   "execution_count": 5,
   "id": "6a26d809-31be-4198-a1e1-2b7891d1001c",
   "metadata": {},
   "outputs": [],
   "source": [
    "# Load molecular dictionary\n",
    "with open('./data/uspto_mol_dict.pkl', 'rb') as f:\n",
    "    mol_dict = pkl.load(f)\n",
    "\n",
    "# Load pre-trained representation model\n",
    "model_path = './model/%s_checkpoint.pt'%identifier\n",
    "\n",
    "trainer = Trainer(None, model_path, mol_dict, cuda)\n",
    "trainer.load(model_path)"
   ]
  },
  {
   "cell_type": "markdown",
   "id": "0e185f07-5717-4dae-86b8-0dfa436338e7",
   "metadata": {},
   "source": [
    "## Prepare Database"
   ]
  },
  {
   "cell_type": "code",
   "execution_count": 6,
   "id": "160a3046-0048-4380-a36f-80263ecfab0d",
   "metadata": {},
   "outputs": [
    {
     "name": "stdout",
     "output_type": "stream",
     "text": [
      "imported dataset ./data/uspto_train.pkl\n",
      "imported dataset ./data/uspto_valid.pkl\n"
     ]
    }
   ],
   "source": [
    "# Load database to be searched\n",
    "ref_data = ReactionDataset('uspto_train', mol_dict, mode = 'dict').data | ReactionDataset('uspto_valid', mol_dict, mode = 'dict').data\n",
    "\n",
    "# Load reaction embeddings\n",
    "pca = np.load('./embed/%s_pca.npz'%identifier)\n",
    "V = torch.FloatTensor(pca['pc'])\n",
    "\n",
    "data = np.load('./embed/%s_embeddings_reduced.npz'%identifier)\n",
    "ref_rid_list = data['ids']\n",
    "ref_embed_list = torch.FloatTensor(data['embeds'])\n",
    "assert len(ref_data) == len(ref_embed_list)"
   ]
  },
  {
   "cell_type": "markdown",
   "id": "43559d41-4612-4f36-b761-817c7bb980dc",
   "metadata": {},
   "source": [
    "## Retrieve Relevant Records for Query"
   ]
  },
  {
   "cell_type": "code",
   "execution_count": 7,
   "id": "2d8e4509-4915-45a5-8cf2-416b71b1a50a",
   "metadata": {},
   "outputs": [],
   "source": [
    "# Process query\n",
    "q_vec = query_to_vec(query)\n",
    "\n",
    "q_product, q_product_pred = trainer.embed(q_vec[1], q_vec[2], to_numpy = False)\n",
    "if not has_reactant: q_product_pred = q_product\n",
    "if not has_product: q_product = q_product_pred\n",
    "assert torch.sum(torch.abs(q_product)) > 0 and torch.sum(torch.abs(q_product_pred)) > 0 \n",
    "\n",
    "# Reduce dimensionality\n",
    "q_product = torch.matmul(q_product, V)\n",
    "q_product_pred = torch.matmul(q_product_pred, V)\n",
    "\n",
    "# Retrieve relevant records\n",
    "q_embed = torch.cat([q_product, q_product_pred], dim=1)\n",
    "sim = euclidean_sim(q_embed, ref_embed_list).numpy().ravel()\n",
    "sort_idx = np.argsort(-sim)"
   ]
  },
  {
   "cell_type": "markdown",
   "id": "80b0da83-094f-4dbd-ac01-f9706da4d7ce",
   "metadata": {},
   "source": [
    "## Print Search Results"
   ]
  },
  {
   "cell_type": "code",
   "execution_count": 8,
   "id": "5c43fcbd-2c16-4fc3-88e2-ea5256e23e4c",
   "metadata": {},
   "outputs": [],
   "source": [
    "retrieved_dict = {}\n",
    "print_list = []\n",
    "for i, idx in enumerate(sort_idx):\n",
    "    rid = ref_rid_list[idx]\n",
    "    \n",
    "    inst = ref_data[rid]\n",
    "    res_product = mol_dict.get(inst['product'][0])\n",
    "    res_reactant = '.'.join([mol_dict.get(x) for x in inst['reactant']])\n",
    "    key = '%s_%s'%(res_product, res_reactant)\n",
    "    if key in retrieved_dict.keys():\n",
    "        continue\n",
    "    else:\n",
    "        retrieved_dict[key] = [query['Q.ID'], query['product'], query['reactant'], res_product, res_reactant]\n",
    "\n",
    "    print_list.append([len(retrieved_dict), rid, res_product, res_reactant, np.sqrt(-sim[idx])])\n",
    "    if len(retrieved_dict) == n_retrieve: break"
   ]
  },
  {
   "cell_type": "code",
   "execution_count": 9,
   "id": "c075e18c-9d61-4ff2-ab8d-81f4c2a46def",
   "metadata": {},
   "outputs": [
    {
     "data": {
      "text/html": [
       "<div>\n",
       "<style scoped>\n",
       "    .dataframe tbody tr th:only-of-type {\n",
       "        vertical-align: middle;\n",
       "    }\n",
       "\n",
       "    .dataframe tbody tr th {\n",
       "        vertical-align: top;\n",
       "    }\n",
       "\n",
       "    .dataframe thead th {\n",
       "        text-align: right;\n",
       "    }\n",
       "</style>\n",
       "<table border=\"1\" class=\"dataframe\">\n",
       "  <thead>\n",
       "    <tr style=\"text-align: right;\">\n",
       "      <th></th>\n",
       "      <th>RX.ID</th>\n",
       "      <th>Product</th>\n",
       "      <th>Reactant</th>\n",
       "      <th>Distance</th>\n",
       "    </tr>\n",
       "    <tr>\n",
       "      <th>Rank</th>\n",
       "      <th></th>\n",
       "      <th></th>\n",
       "      <th></th>\n",
       "      <th></th>\n",
       "    </tr>\n",
       "  </thead>\n",
       "  <tbody>\n",
       "    <tr>\n",
       "      <th>1</th>\n",
       "      <td>train_164218</td>\n",
       "      <td>NCc1nnc2ncc(-c3ccccc3)nn12</td>\n",
       "      <td>[N-]=[N+]=NCc1nnc2ncc(-c3ccccc3)nn12</td>\n",
       "      <td>50.386028</td>\n",
       "    </tr>\n",
       "    <tr>\n",
       "      <th>2</th>\n",
       "      <td>train_402863</td>\n",
       "      <td>Nc1ccn2nc(-c3ccccc3)nc2c1</td>\n",
       "      <td>CC(C)(C)OC(=O)Nc1ccn2nc(-c3ccccc3)nc2c1</td>\n",
       "      <td>51.836639</td>\n",
       "    </tr>\n",
       "    <tr>\n",
       "      <th>3</th>\n",
       "      <td>train_82403</td>\n",
       "      <td>OCc1nnc2ccc(-c3ccccc3)nn12</td>\n",
       "      <td>OCc1nnc2ccc(Cl)nn12.OB(O)c1ccccc1</td>\n",
       "      <td>52.356800</td>\n",
       "    </tr>\n",
       "    <tr>\n",
       "      <th>4</th>\n",
       "      <td>train_391826</td>\n",
       "      <td>Oc1nc(O)n2ncc(-c3ccccc3)c2n1</td>\n",
       "      <td>[OH-].Oc1nc(S)nc2c(-c3ccccc3)cnn12</td>\n",
       "      <td>52.486568</td>\n",
       "    </tr>\n",
       "    <tr>\n",
       "      <th>5</th>\n",
       "      <td>train_71802</td>\n",
       "      <td>c1ccc(Nc2nsc3nc4ccccc4n23)nc1</td>\n",
       "      <td>Brc1nsc2nc3ccccc3n12.Nc1ccccn1</td>\n",
       "      <td>54.869946</td>\n",
       "    </tr>\n",
       "    <tr>\n",
       "      <th>6</th>\n",
       "      <td>train_156427</td>\n",
       "      <td>Nc1nc2nccc(-c3ccc(O)cc3)n2n1</td>\n",
       "      <td>Nc1nc2nccc(-c3ccc(OCc4ccccc4)cc3)n2n1</td>\n",
       "      <td>56.004971</td>\n",
       "    </tr>\n",
       "    <tr>\n",
       "      <th>7</th>\n",
       "      <td>train_5236</td>\n",
       "      <td>CC(C)(C)OC(=O)Nc1ccn2nc(-c3ccccc3)nc2c1</td>\n",
       "      <td>Brc1ccn2nc(-c3ccccc3)nc2c1.CC(C)(C)OC(N)=O</td>\n",
       "      <td>56.923813</td>\n",
       "    </tr>\n",
       "    <tr>\n",
       "      <th>8</th>\n",
       "      <td>train_364075</td>\n",
       "      <td>O=C(Nc1nc2c(Br)cccn2n1)c1ccccc1</td>\n",
       "      <td>Nc1nc2c(Br)cccn2n1.O=C(Cl)c1ccccc1</td>\n",
       "      <td>57.059418</td>\n",
       "    </tr>\n",
       "    <tr>\n",
       "      <th>9</th>\n",
       "      <td>train_7560</td>\n",
       "      <td>Nc1nsnc1-c1ccccc1</td>\n",
       "      <td>C[Si](C)(C)[N-][Si](C)(C)C.Clc1nsnc1-c1ccccc1</td>\n",
       "      <td>57.343334</td>\n",
       "    </tr>\n",
       "    <tr>\n",
       "      <th>10</th>\n",
       "      <td>train_320693</td>\n",
       "      <td>Clc1nc2nc(Br)nn2cc1-c1ccccc1</td>\n",
       "      <td>Clc1nc2nc(Br)nn2c(Br)c1-c1ccccc1</td>\n",
       "      <td>58.170109</td>\n",
       "    </tr>\n",
       "    <tr>\n",
       "      <th>11</th>\n",
       "      <td>train_197103</td>\n",
       "      <td>Clc1nc2ncnn2cc1-c1ccccc1</td>\n",
       "      <td>Clc1nc2ncnn2c(Cl)c1-c1ccccc1</td>\n",
       "      <td>58.187031</td>\n",
       "    </tr>\n",
       "    <tr>\n",
       "      <th>12</th>\n",
       "      <td>train_94699</td>\n",
       "      <td>O=C(c1ccccc1)n1ncc2c1ncc1c(=O)n(-c3ccccc3)c3nc...</td>\n",
       "      <td>O=C(Cl)c1ccccc1.O=c1c2cnc3[nH]ncc3c2n2ncnc2n1-...</td>\n",
       "      <td>58.927425</td>\n",
       "    </tr>\n",
       "    <tr>\n",
       "      <th>13</th>\n",
       "      <td>train_199884</td>\n",
       "      <td>Cn1ncc(Cl)c1C(=O)Nc1cc2nc(-c3ccccc3)cn2cn1</td>\n",
       "      <td>Cn1ncc(Cl)c1C(=O)O.Nc1cc2nc(-c3ccccc3)cn2cn1</td>\n",
       "      <td>59.416828</td>\n",
       "    </tr>\n",
       "    <tr>\n",
       "      <th>14</th>\n",
       "      <td>train_143701</td>\n",
       "      <td>O=C(Nc1cccnn1)N1CCN(c2nc(-c3ccccc3)ns2)CC1</td>\n",
       "      <td>c1ccc(-c2nsc(N3CCNCC3)n2)cc1.O=C(Nc1cccnn1)OCC...</td>\n",
       "      <td>59.494091</td>\n",
       "    </tr>\n",
       "    <tr>\n",
       "      <th>15</th>\n",
       "      <td>train_35328</td>\n",
       "      <td>O=c1[nH]nc2c(-n3ccnc3)c(-c3ccc(Cl)cc3)cnn12</td>\n",
       "      <td>O=c1[nH]nc2c(Cl)c(-c3ccc(Cl)cc3)cnn12.c1c[nH]cn1</td>\n",
       "      <td>59.787106</td>\n",
       "    </tr>\n",
       "  </tbody>\n",
       "</table>\n",
       "</div>"
      ],
      "text/plain": [
       "             RX.ID                                            Product  \\\n",
       "Rank                                                                    \n",
       "1     train_164218                         NCc1nnc2ncc(-c3ccccc3)nn12   \n",
       "2     train_402863                          Nc1ccn2nc(-c3ccccc3)nc2c1   \n",
       "3      train_82403                         OCc1nnc2ccc(-c3ccccc3)nn12   \n",
       "4     train_391826                       Oc1nc(O)n2ncc(-c3ccccc3)c2n1   \n",
       "5      train_71802                      c1ccc(Nc2nsc3nc4ccccc4n23)nc1   \n",
       "6     train_156427                       Nc1nc2nccc(-c3ccc(O)cc3)n2n1   \n",
       "7       train_5236            CC(C)(C)OC(=O)Nc1ccn2nc(-c3ccccc3)nc2c1   \n",
       "8     train_364075                    O=C(Nc1nc2c(Br)cccn2n1)c1ccccc1   \n",
       "9       train_7560                                  Nc1nsnc1-c1ccccc1   \n",
       "10    train_320693                       Clc1nc2nc(Br)nn2cc1-c1ccccc1   \n",
       "11    train_197103                           Clc1nc2ncnn2cc1-c1ccccc1   \n",
       "12     train_94699  O=C(c1ccccc1)n1ncc2c1ncc1c(=O)n(-c3ccccc3)c3nc...   \n",
       "13    train_199884         Cn1ncc(Cl)c1C(=O)Nc1cc2nc(-c3ccccc3)cn2cn1   \n",
       "14    train_143701         O=C(Nc1cccnn1)N1CCN(c2nc(-c3ccccc3)ns2)CC1   \n",
       "15     train_35328        O=c1[nH]nc2c(-n3ccnc3)c(-c3ccc(Cl)cc3)cnn12   \n",
       "\n",
       "                                               Reactant   Distance  \n",
       "Rank                                                                \n",
       "1                  [N-]=[N+]=NCc1nnc2ncc(-c3ccccc3)nn12  50.386028  \n",
       "2               CC(C)(C)OC(=O)Nc1ccn2nc(-c3ccccc3)nc2c1  51.836639  \n",
       "3                     OCc1nnc2ccc(Cl)nn12.OB(O)c1ccccc1  52.356800  \n",
       "4                    [OH-].Oc1nc(S)nc2c(-c3ccccc3)cnn12  52.486568  \n",
       "5                        Brc1nsc2nc3ccccc3n12.Nc1ccccn1  54.869946  \n",
       "6                 Nc1nc2nccc(-c3ccc(OCc4ccccc4)cc3)n2n1  56.004971  \n",
       "7            Brc1ccn2nc(-c3ccccc3)nc2c1.CC(C)(C)OC(N)=O  56.923813  \n",
       "8                    Nc1nc2c(Br)cccn2n1.O=C(Cl)c1ccccc1  57.059418  \n",
       "9         C[Si](C)(C)[N-][Si](C)(C)C.Clc1nsnc1-c1ccccc1  57.343334  \n",
       "10                     Clc1nc2nc(Br)nn2c(Br)c1-c1ccccc1  58.170109  \n",
       "11                         Clc1nc2ncnn2c(Cl)c1-c1ccccc1  58.187031  \n",
       "12    O=C(Cl)c1ccccc1.O=c1c2cnc3[nH]ncc3c2n2ncnc2n1-...  58.927425  \n",
       "13         Cn1ncc(Cl)c1C(=O)O.Nc1cc2nc(-c3ccccc3)cn2cn1  59.416828  \n",
       "14    c1ccc(-c2nsc(N3CCNCC3)n2)cc1.O=C(Nc1cccnn1)OCC...  59.494091  \n",
       "15     O=c1[nH]nc2c(Cl)c(-c3ccc(Cl)cc3)cnn12.c1c[nH]cn1  59.787106  "
      ]
     },
     "execution_count": 9,
     "metadata": {},
     "output_type": "execute_result"
    }
   ],
   "source": [
    "pd.DataFrame(print_list, columns=['Rank', 'RX.ID', 'Product', 'Reactant', 'Distance']).set_index('Rank')"
   ]
  },
  {
   "cell_type": "code",
   "execution_count": null,
   "id": "24f1e1a2-cfa6-4308-b324-f1b4a6efb29c",
   "metadata": {},
   "outputs": [],
   "source": []
  }
 ],
 "metadata": {
  "kernelspec": {
   "display_name": "Python 3 (ipykernel)",
   "language": "python",
   "name": "python3"
  },
  "language_info": {
   "codemirror_mode": {
    "name": "ipython",
    "version": 3
   },
   "file_extension": ".py",
   "mimetype": "text/x-python",
   "name": "python",
   "nbconvert_exporter": "python",
   "pygments_lexer": "ipython3",
   "version": "3.11.7"
  }
 },
 "nbformat": 4,
 "nbformat_minor": 5
}
